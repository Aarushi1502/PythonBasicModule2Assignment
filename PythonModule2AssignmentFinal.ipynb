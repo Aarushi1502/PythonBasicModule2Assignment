{
  "nbformat": 4,
  "nbformat_minor": 0,
  "metadata": {
    "colab": {
      "provenance": []
    },
    "kernelspec": {
      "name": "python3",
      "display_name": "Python 3"
    },
    "language_info": {
      "name": "python"
    }
  },
  "cells": [
    {
      "cell_type": "markdown",
      "source": [
        "# Module 2 Assignment\n",
        "\n",
        "##Python Basics Questions\n",
        "\n",
        "\n",
        "1. What is Python, and why is it popular?\n",
        "   - Python is a high-level, interpreted programming language known for its simplicity and readability. It is popular due to its extensive libraries, wide-ranging applications, and versatility in areas like web development, data analysis, Artificial Intelligence, and more.\n",
        "  \n",
        "2. What is an interpreter in Python?\n",
        "    - An interpreter in Python is a program that executes code line-by-line, converting it into machine-readable format without needing compilation.\n",
        "\n",
        "3. What are pre-defined keywords in Python?\n",
        "    - Keywords are reserved words in Python which have special meanings and cannot be use as variables, such as if, elif, for, def, etc.\n",
        "\n",
        "4. Can keywords be used as variable names?\n",
        "    - No, Python keywords cannot be used as variable names since they have predefined functions.\n",
        "\n",
        "5. What is mutability in Python?\n",
        "    - Mutability refers to the ability of an object to be modified after its creation.\n",
        "\n",
        "6. Why are lists mutable, but tuples are immutable?\n",
        "    - Lists are mutable, meaning their elements can be changed. Tuples, on the other hand, are immutable, making them fixed once created.\n",
        "\n",
        "7. What is the difference between == and is operators in Python?\n",
        "    - \"==\" checks for value equality, while \"is\" checks for object identity (i.e., whether two variables point to the same object in memory).\n",
        "\n",
        "8. What are logical operators in Python?\n",
        "    - Logical operators include and, or, and not, used to combine conditional statements.\n",
        "\n",
        "9. What is type casting in Python?\n",
        "    - Type casting converts one data type to another.\n",
        "\n",
        "10. What is the difference between implicit and explicit type casting?\n",
        "    - Implicit type casting is automatic, while explicit type casting requires the programmer to specify the conversion.\n",
        "\n",
        "11. What is the purpose of conditional statements in Python?\n",
        "    - They allow decision-making in a program, enabling the code to execute different actions based on conditions.\n",
        "\n",
        "12. How does the elif statement work?\n",
        "    - elif (else if) allows checking multiple conditions after an if statement.\n",
        "\n",
        "13. What is the difference between for and while loops?\n",
        "    - for loops iterate over sequences, while while loops execute as long as a condition is True.\n",
        "\n",
        "14. Describe a scenario where a while loop is more suitable than a for loop.\n",
        "    - A while loop is better when the number of iterations is unknown beforehand (e.g., reading user input until a valid response is given).\n",
        "\n"
      ],
      "metadata": {
        "id": "VjmDb-DMQwuz"
      }
    },
    {
      "cell_type": "code",
      "source": [
        "#1. Write a Python program to print \"Hello, World!\".\n",
        "\n",
        "print(\"Hello, World!\")"
      ],
      "metadata": {
        "id": "gnWYbw9rZ15v"
      },
      "execution_count": null,
      "outputs": []
    },
    {
      "cell_type": "code",
      "source": [
        "#2. Write a Python program that displays your name and age.\n",
        "name = \"Aarushi Mehta\"\n",
        "age = str(26)\n",
        "print(\"My name is \" +name+\" and I am \" +age+ \" years old.\")\n",
        "\"\"\"\n",
        "OR\n",
        "name = \"Aarushi Mehta\"\n",
        "age = 26\n",
        "print(f\"My name is {name} and I am {age} years old.\")\n",
        "\"\"\""
      ],
      "metadata": {
        "id": "puAxNBa6anQZ"
      },
      "execution_count": null,
      "outputs": []
    },
    {
      "cell_type": "code",
      "source": [
        "#3. Write a code to Print all pre-defined keywords in Python using the keyword library:\n",
        "\n",
        "import keyword\n",
        "print(keyword.kwlist)"
      ],
      "metadata": {
        "collapsed": true,
        "id": "DLl70Pw6c3Ts"
      },
      "execution_count": null,
      "outputs": []
    },
    {
      "cell_type": "code",
      "source": [
        "#4. write a program that Checks if a word is a Python keyword:\n",
        "\n",
        "import keyword\n",
        "word = input(\"Enter a word: \")\n",
        "if keyword.iskeyword(word):\n",
        "    print(f\"{word} is a Python keyword.\")\n",
        "else:\n",
        "    print(f\"{word} is not a Python keyword.\")"
      ],
      "metadata": {
        "id": "tTf5aFSrdCrC"
      },
      "execution_count": null,
      "outputs": []
    },
    {
      "cell_type": "code",
      "source": [
        "#5. Create a list and a tuple, and demonstrate the immutability of tuples:\n",
        "my_list = [1, 2, 3]\n",
        "my_list[0] = 10\n",
        "print(my_list)\n",
        "\n",
        "# Tuple (immutable)\n",
        "my_tuple = (1, 2, 3)\n",
        "try:\n",
        "    my_tuple[0] = 10\n",
        "except:\n",
        "    print(\"10 can not be added at Oth Location\")"
      ],
      "metadata": {
        "id": "DVIDUKt6fk_W"
      },
      "execution_count": null,
      "outputs": []
    },
    {
      "cell_type": "code",
      "source": [
        "#6. Write a function to demonstrate the behavior of mutable and immutable arguments0\n",
        "def modify(data):\n",
        "    if isinstance(data, list):\n",
        "        data.append(10)\n",
        "    elif isinstance(data, tuple):\n",
        "        print(\"Cannot modify tuple.\")\n",
        "\n",
        "my_list = [1, 2, 3]\n",
        "my_tuple = (1, 2, 3)\n",
        "modify(my_list)\n",
        "modify(my_tuple)\n",
        "print(my_list)\n",
        "print(my_tuple)"
      ],
      "metadata": {
        "id": "1DcmpfQ3hY1a"
      },
      "execution_count": null,
      "outputs": []
    },
    {
      "cell_type": "code",
      "source": [
        "#7. Question 7 is repeated question the answer of Question 6 and 7 are same."
      ],
      "metadata": {
        "id": "odguFAoBhrSt"
      },
      "execution_count": null,
      "outputs": []
    },
    {
      "cell_type": "code",
      "source": [
        "#8. Write a program to demonstrate the use of logical operators\n",
        "a = 50\n",
        "b = 60\n",
        "print(a > 0 and b > 0)\n",
        "print(a > 0 or b < 0)\n",
        "print(not(a > 0))"
      ],
      "metadata": {
        "id": "HPUEj7okh7aC"
      },
      "execution_count": null,
      "outputs": []
    },
    {
      "cell_type": "code",
      "source": [
        "#9. Write a Python program to convert user input from string to integer, float, and boolean types\n",
        "\n",
        "user_input = input(\"Enter a value: \")\n",
        "print(int(user_input), float(user_input), bool(user_input))"
      ],
      "metadata": {
        "id": "DghnCU6rij2a"
      },
      "execution_count": null,
      "outputs": []
    },
    {
      "cell_type": "code",
      "source": [
        "#10. Write code to demonstrate type casting with list elements\n",
        "\n",
        "numbers = [\"1\", \"2\", \"3\"]\n",
        "casted_numbers = [int(num) for num in numbers]\n",
        "print(casted_numbers)"
      ],
      "metadata": {
        "id": "pg5kVu3AjNdX"
      },
      "execution_count": null,
      "outputs": []
    },
    {
      "cell_type": "code",
      "source": [
        "#11. Write a program that checks if a number is positive, negative, or zero0\n",
        "\n",
        "num = int(input(\"Enter a number: \"))\n",
        "if num > 0:\n",
        "    print(\"Positive\")\n",
        "elif num < 0:\n",
        "    print(\"Negative\")\n",
        "else:\n",
        "    print(\"Zero\")"
      ],
      "metadata": {
        "id": "RhZla7Bojh8J"
      },
      "execution_count": null,
      "outputs": []
    },
    {
      "cell_type": "code",
      "source": [
        "#12. Write a for loop to print numbers from 1 to 10\n",
        "\n",
        "for i in range(1, 11):\n",
        "    print(i)"
      ],
      "metadata": {
        "id": "qa4Wmf3HjtpV"
      },
      "execution_count": null,
      "outputs": []
    },
    {
      "cell_type": "code",
      "source": [
        "#13. Write a Python program to find the sum of all even numbers between 1 and 50\n",
        "\n",
        "even_sum = 0\n",
        "\n",
        "for num in range(1, 51):\n",
        "    if num % 2 == 0:\n",
        "        even_sum += num\n",
        "\n",
        "print(\"The sum of all even numbers between 1 and 50 is:\", even_sum)"
      ],
      "metadata": {
        "id": "j6dy6j74kBFs"
      },
      "execution_count": null,
      "outputs": []
    },
    {
      "cell_type": "code",
      "source": [
        "#14. Write a program to reverse a string using a while loop\n",
        "\n",
        "text = input(\"Enter a string: \")\n",
        "reversed_text = \"\"\n",
        "index = len(text) - 1\n",
        "while index >= 0:\n",
        "    reversed_text += text[index]\n",
        "    index -= 1\n",
        "print(reversed_text)"
      ],
      "metadata": {
        "id": "hoCjiBbWkpFx"
      },
      "execution_count": null,
      "outputs": []
    },
    {
      "cell_type": "code",
      "source": [
        " #15. Write a Python program to calculate the factorial of a number provided by the user using a while loop.\n",
        "num = int(input(\"Enter a number: \"))\n",
        "factorial = 1\n",
        "while num > 0:\n",
        "    factorial *= num\n",
        "    num -= 1\n",
        "print(f\"Factorial: {factorial}\")"
      ],
      "metadata": {
        "id": "ldqSc3IilEH5"
      },
      "execution_count": null,
      "outputs": []
    }
  ]
}